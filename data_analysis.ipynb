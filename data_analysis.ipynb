{
  "nbformat": 4,
  "nbformat_minor": 0,
  "metadata": {
    "colab": {
      "provenance": []
    },
    "kernelspec": {
      "name": "python3",
      "display_name": "Python 3"
    },
    "language_info": {
      "name": "python"
    }
  },
  "cells": [
    {
      "cell_type": "code",
      "source": [
        "import pandas as pd\n",
        "import numpy as np\n",
        "import matplotlib.pyplot as plt\n",
        "import seaborn as sns\n",
        "from scipy.stats import zscore\n",
        "\n",
        "sns.set(style=\"whitegrid\")\n",
        "pd.set_option(\"display.max_columns\", 20)"
      ],
      "metadata": {
        "id": "eGsJAAV58poC"
      },
      "execution_count": null,
      "outputs": []
    },
    {
      "cell_type": "code",
      "source": [
        "df = pd.read_csv('cardiac arrest dataset.csv')"
      ],
      "metadata": {
        "id": "XncPa5qW8tls"
      },
      "execution_count": null,
      "outputs": []
    },
    {
      "cell_type": "code",
      "source": [
        "df.head()"
      ],
      "metadata": {
        "id": "5YQbUay-8u18"
      },
      "execution_count": null,
      "outputs": []
    },
    {
      "cell_type": "code",
      "source": [
        "df.info()"
      ],
      "metadata": {
        "id": "WRFAS-0M8xQO"
      },
      "execution_count": null,
      "outputs": []
    },
    {
      "cell_type": "code",
      "source": [
        "missing_values = df.isnull().sum()\n",
        "duplicated_rows = df.duplicated().sum()\n",
        "\n",
        "print(\"Missing values by column:\\n\", missing_values)\n",
        "print(\"Duplicate lines:\", duplicated_rows)"
      ],
      "metadata": {
        "id": "6WrpJix59PxQ"
      },
      "execution_count": null,
      "outputs": []
    },
    {
      "cell_type": "code",
      "source": [
        "df.describe().T"
      ],
      "metadata": {
        "id": "7loXfE3t9RMZ"
      },
      "execution_count": null,
      "outputs": []
    },
    {
      "cell_type": "code",
      "source": [
        "sns.countplot(data=df, x='target', palette='Set2')\n",
        "plt.title('Target Variable Distribution (Cardiovascular Disease)')\n",
        "plt.xlabel('0 = No Illness | 1 = With illness')\n",
        "plt.ylabel('Number of Patients')\n",
        "plt.show()"
      ],
      "metadata": {
        "id": "FVyytpQi9TMX"
      },
      "execution_count": null,
      "outputs": []
    },
    {
      "cell_type": "code",
      "source": [
        "df = df.drop_duplicates()\n",
        "\n",
        "print(f\"Total rows after removing duplicates: {df.shape[0]}\")"
      ],
      "metadata": {
        "id": "Mg00ecZ6-G_B"
      },
      "execution_count": null,
      "outputs": []
    },
    {
      "cell_type": "code",
      "source": [
        "sexo_vs_doenca = pd.crosstab(df['sex'], df['target'])\n",
        "\n",
        "sexo_vs_doenca.plot(kind='bar', stacked=True, colormap='Set3')\n",
        "plt.title('Distribution of Cardiovascular Disease by Sex')\n",
        "plt.xlabel('Sex (0 = female, 1 = male)')\n",
        "plt.ylabel('Number of Patients')\n",
        "plt.legend(['No Illness', 'With illness'])\n",
        "plt.tight_layout()\n",
        "plt.show()"
      ],
      "metadata": {
        "id": "hGIg7-Fr-Jx6"
      },
      "execution_count": null,
      "outputs": []
    },
    {
      "cell_type": "code",
      "source": [
        "variaveis_continuas = ['age', 'trestbps', 'chol', 'thalach', 'oldpeak']\n",
        "\n",
        "df[variaveis_continuas].hist(bins=15, figsize=(15, 10), color='steelblue', edgecolor='black')\n",
        "plt.suptitle('Distribution of Continuous Variables')\n",
        "plt.tight_layout(rect=[0, 0, 1, 0.96])\n",
        "plt.show()"
      ],
      "metadata": {
        "id": "sCiByBjy_CRD"
      },
      "execution_count": null,
      "outputs": []
    },
    {
      "cell_type": "code",
      "source": [
        "plt.figure(figsize=(15, 10))\n",
        "for i, var in enumerate(variaveis_continuas, 1):\n",
        "    plt.subplot(2, 3, i)\n",
        "    sns.boxplot(data=df, x='target', y=var, palette='Set2')\n",
        "    plt.title(f'{var} vs Cardiovascular Disease')\n",
        "plt.tight_layout()\n",
        "plt.show()\n"
      ],
      "metadata": {
        "id": "Gw4oF9Z9_Lst"
      },
      "execution_count": null,
      "outputs": []
    },
    {
      "cell_type": "code",
      "source": [
        "plt.figure(figsize=(12, 8))\n",
        "correlacao = df.corr()\n",
        "sns.heatmap(correlacao, annot=True, fmt=\".2f\", cmap=\"coolwarm\", square=True)\n",
        "plt.title(\"Correlation Matrix Between Variables\")\n",
        "plt.tight_layout()\n",
        "plt.show()"
      ],
      "metadata": {
        "id": "X83foqKQ_Xse"
      },
      "execution_count": null,
      "outputs": []
    },
    {
      "cell_type": "code",
      "source": [
        "variaveis_cat = ['cp', 'restecg', 'slope', 'ca', 'thal']\n",
        "\n",
        "plt.figure(figsize=(15, 10))\n",
        "for i, var in enumerate(variaveis_cat, 1):\n",
        "    plt.subplot(2, 3, i)\n",
        "    sns.countplot(data=df, x=var, hue='target', palette='Set2')\n",
        "    plt.title(f'{var} vs target')\n",
        "plt.tight_layout()\n",
        "plt.show()"
      ],
      "metadata": {
        "id": "6tXVknnL_fei"
      },
      "execution_count": null,
      "outputs": []
    },
    {
      "cell_type": "code",
      "source": [
        "z_scores = np.abs(zscore(df[variaveis_continuas]))\n",
        "outliers = (z_scores > 3).sum(axis=0)\n",
        "outliers"
      ],
      "metadata": {
        "id": "1UvxlJqp_j44"
      },
      "execution_count": null,
      "outputs": []
    },
    {
      "cell_type": "code",
      "source": [
        "df['age_range'] = pd.cut(df['age'], bins=[25, 40, 50, 60, 70, 80], labels=['25-40', '41-50', '51-60', '61-70', '71-80'])\n",
        "\n",
        "plt.figure(figsize=(8, 5))\n",
        "sns.countplot(data=df, x='age_range', hue='target', palette='Set2')\n",
        "plt.title('Disease Distribution by Age Group')\n",
        "plt.xlabel('Age Range (years)')\n",
        "plt.ylabel('Number of Patients')\n",
        "plt.tight_layout()\n",
        "plt.show()\n"
      ],
      "metadata": {
        "id": "3Hwm2sl4_2CD"
      },
      "execution_count": null,
      "outputs": []
    }
  ]
}