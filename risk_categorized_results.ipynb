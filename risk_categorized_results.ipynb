{
  "nbformat": 4,
  "nbformat_minor": 0,
  "metadata": {
    "colab": {
      "provenance": []
    },
    "kernelspec": {
      "name": "python3",
      "display_name": "Python 3"
    },
    "language_info": {
      "name": "python"
    }
  },
  "cells": [
    {
      "cell_type": "code",
      "source": [
        "import numpy as np\n",
        "import pandas as pd\n",
        "import joblib\n",
        "import matplotlib.pyplot as plt\n",
        "import seaborn as sns\n",
        "\n",
        "pd.set_option(\"display.max_columns\", None)"
      ],
      "metadata": {
        "id": "5PMUW4q5Dlcv"
      },
      "execution_count": null,
      "outputs": []
    },
    {
      "cell_type": "code",
      "source": [
        "X_test = np.load(\"X_test.npy\")\n",
        "y_test = pd.read_csv(\"y_test.csv\").values.ravel()\n",
        "\n",
        "stack_model = joblib.load(\"stacking_model_final.joblib\")\n",
        "y_proba = stack_model.predict_proba(X_test)[:, 1]\n",
        "\n",
        "print(\"Predicted probabilities:\")\n",
        "print(y_proba[:10])"
      ],
      "metadata": {
        "id": "hykX5JTzD_2r"
      },
      "execution_count": null,
      "outputs": []
    },
    {
      "cell_type": "code",
      "source": [
        "p33 = np.percentile(y_proba, 33)\n",
        "p66 = np.percentile(y_proba, 66)\n",
        "\n",
        "print(\"Risk categorization limits:\")\n",
        "print(f\"Low: ≤ {p33:.4f}\")\n",
        "print(f\"Average: > {p33:.4f} e ≤ {p66:.4f}\")\n",
        "print(f\"High: > {p66:.4f}\")"
      ],
      "metadata": {
        "id": "SDs4GcNVEOjI"
      },
      "execution_count": null,
      "outputs": []
    },
    {
      "cell_type": "code",
      "source": [
        "df_risk = pd.DataFrame({\n",
        "    \"true_label\": y_test,\n",
        "    \"predicted_proba\": y_proba\n",
        "})\n",
        "\n",
        "def categorizar_risco(p):\n",
        "    if p <= p33:\n",
        "        return \"Low\"\n",
        "    elif p <= p66:\n",
        "        return \"Average\"\n",
        "    else:\n",
        "        return \"High\"\n",
        "\n",
        "df_risk[\"risk_category\"] = df_risk[\"predicted_proba\"].apply(categorizar_risco)\n",
        "df_risk.head(10)"
      ],
      "metadata": {
        "id": "elz3_73xF_uc"
      },
      "execution_count": null,
      "outputs": []
    },
    {
      "cell_type": "code",
      "source": [
        "contagem_abs = df_risk[\"risk_category\"].value_counts()\n",
        "contagem_prop = df_risk[\"risk_category\"].value_counts(normalize=True)\n",
        "\n",
        "print(\"Absolute frequency of risk categories:\")\n",
        "print(contagem_abs)\n",
        "print(\"Proportional frequency of risk categories:\")\n",
        "print(contagem_prop)"
      ],
      "metadata": {
        "id": "MipfyyByGLud"
      },
      "execution_count": null,
      "outputs": []
    },
    {
      "cell_type": "code",
      "source": [
        "cross_tab = pd.crosstab(df_risk[\"risk_category\"], df_risk[\"true_label\"],\n",
        "                        rownames=[\"Risk Category\"],\n",
        "                        colnames=[\"Real Diagnosis (target)\"])\n",
        "\n",
        "print(\"Actual distribution of disease by risk category:\")\n",
        "print(cross_tab)"
      ],
      "metadata": {
        "id": "kia-Pmo0HFVc"
      },
      "execution_count": null,
      "outputs": []
    },
    {
      "cell_type": "code",
      "source": [
        "plt.figure(figsize=(8, 5))\n",
        "sns.countplot(data=df_risk, x=\"risk_category\", hue=\"true_label\", palette=\"Set2\")\n",
        "plt.title(\"Distribution of Actual Diagnosis by Risk Category\")\n",
        "plt.xlabel(\"Risk Category\")\n",
        "plt.ylabel(\"Number of Patients\")\n",
        "plt.legend(title=\"Real Diagnosis\", labels=[\"No Disease\", \"With Disease\"])\n",
        "plt.tight_layout()\n",
        "plt.show()"
      ],
      "metadata": {
        "id": "0LVB1xxgJG72"
      },
      "execution_count": null,
      "outputs": []
    },
    {
      "cell_type": "code",
      "source": [
        "df_risk.to_csv(\"risk_categorized_results.csv\", index=False)"
      ],
      "metadata": {
        "id": "7AhHpAuyJaO5"
      },
      "execution_count": null,
      "outputs": []
    }
  ]
}