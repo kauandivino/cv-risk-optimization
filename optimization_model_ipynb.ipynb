{
  "nbformat": 4,
  "nbformat_minor": 0,
  "metadata": {
    "colab": {
      "provenance": []
    },
    "kernelspec": {
      "name": "python3",
      "display_name": "Python 3"
    },
    "language_info": {
      "name": "python"
    }
  },
  "cells": [
    {
      "cell_type": "code",
      "source": [
        "!pip install pulp"
      ],
      "metadata": {
        "id": "HIacD0B6OHr4"
      },
      "execution_count": null,
      "outputs": []
    },
    {
      "cell_type": "code",
      "source": [
        "import pandas as pd\n",
        "import numpy as np\n",
        "from pulp import LpProblem, LpVariable, lpSum, LpBinary, LpMaximize, PULP_CBC_CMD\n",
        "\n",
        "pd.set_option(\"display.max_columns\", None)"
      ],
      "metadata": {
        "id": "jd4ZR4p_OJP7"
      },
      "execution_count": null,
      "outputs": []
    },
    {
      "cell_type": "code",
      "source": [
        "df = pd.read_csv(\"risk_categorized_results.csv\")\n",
        "\n",
        "np.random.seed(42)\n",
        "df[\"simulated_cost\"] = np.random.randint(100, 1000, size=len(df))\n",
        "df.head(10)"
      ],
      "metadata": {
        "id": "irdO_dpuOMuR"
      },
      "execution_count": null,
      "outputs": []
    },
    {
      "cell_type": "code",
      "source": [
        "CAPACIDADE_MAXIMA = 30\n",
        "ORCAMENTO_TOTAL = 18000\n",
        "INCLUSAO_MIN_ALTO_RISCO = 10\n",
        "\n",
        "print(\"Defined parameters:\")\n",
        "print(f\"Maximum capacity: {CAPACIDADE_MAXIMA}\")\n",
        "print(f\"Total budget: R$ {ORCAMENTO_TOTAL}\")\n",
        "print(f\"Minimum inclusion of high-risk patients: {INCLUSAO_MIN_ALTO_RISCO}\")"
      ],
      "metadata": {
        "id": "qbVTTD-KOxY6"
      },
      "execution_count": null,
      "outputs": []
    },
    {
      "cell_type": "code",
      "source": [
        "df[\"id\"] = df.index\n",
        "\n",
        "PESO_RISCO = 1.0\n",
        "PESO_CUSTO = 0.001\n",
        "\n",
        "risco = dict(zip(df[\"id\"], df[\"predicted_proba\"]))\n",
        "custo = dict(zip(df[\"id\"], df[\"simulated_cost\"]))\n",
        "categoria = dict(zip(df[\"id\"], df[\"risk_category\"]))"
      ],
      "metadata": {
        "id": "tU_XHkniPD1h"
      },
      "execution_count": null,
      "outputs": []
    },
    {
      "cell_type": "code",
      "source": [
        "modelo = LpProblem(\"Alocacao_Otima_de_Pacientes\", LpMaximize)"
      ],
      "metadata": {
        "id": "p6ExbYd6PbuT"
      },
      "execution_count": null,
      "outputs": []
    },
    {
      "cell_type": "code",
      "source": [
        "x = {i: LpVariable(f\"x_{i}\", cat=LpBinary) for i in df[\"id\"]}\n",
        "list(x.items())[:5]"
      ],
      "metadata": {
        "id": "AjLlOrLVPiJC"
      },
      "execution_count": null,
      "outputs": []
    },
    {
      "cell_type": "code",
      "source": [
        "modelo += lpSum([PESO_RISCO * risco[i] * x[i] - PESO_CUSTO * custo[i] * x[i] for i in df[\"id\"]]), \"Maximizar_Risco_Menos_Custo\""
      ],
      "metadata": {
        "id": "iJW7eRrYPk0C"
      },
      "execution_count": null,
      "outputs": []
    },
    {
      "cell_type": "code",
      "source": [
        "modelo += lpSum([x[i] for i in df[\"id\"]]) <= CAPACIDADE_MAXIMA, \"Restricao_Capacidade\"\n",
        "modelo += lpSum([custo[i] * x[i] for i in df[\"id\"]]) <= ORCAMENTO_TOTAL, \"Restricao_Orcamento\"\n",
        "\n",
        "ids_alto_risco = [i for i in df[\"id\"] if categoria[i] == \"alto\"]\n",
        "modelo += lpSum([x[i] for i in ids_alto_risco]) >= INCLUSAO_MIN_ALTO_RISCO, \"Restricao_Alto_Risco\""
      ],
      "metadata": {
        "id": "jGLisoyZP8St"
      },
      "execution_count": null,
      "outputs": []
    },
    {
      "cell_type": "code",
      "source": [
        "status = modelo.solve(PULP_CBC_CMD(msg=True))\n",
        "print(f\"Optimization status: {LpStatus[modelo.status]}\")"
      ],
      "metadata": {
        "id": "6T76I7EIQFRb"
      },
      "execution_count": null,
      "outputs": []
    },
    {
      "cell_type": "code",
      "source": [
        "df[\"selecionado\"] = df[\"id\"].apply(lambda i: int(x[i].varValue))\n",
        "df_selecionados = df[df[\"selecionado\"] == 1]\n",
        "df_selecionados.head(10)"
      ],
      "metadata": {
        "id": "xZdxgGKLQLtl"
      },
      "execution_count": null,
      "outputs": []
    },
    {
      "cell_type": "code",
      "source": [
        "def _plot_series(series, series_name, series_index=0):\n",
        "  palette = list(sns.palettes.mpl_palette('Dark2'))\n",
        "  xs = series['id']\n",
        "  ys = series['true_label']\n",
        "\n",
        "  plt.plot(xs, ys, label=series_name, color=palette[series_index % len(palette)])\n",
        "\n",
        "fig, ax = plt.subplots(figsize=(10, 5.2), layout='constrained')\n",
        "df_sorted = df_selecionados.sort_values('id', ascending=True)\n",
        "for i, (series_name, series) in enumerate(df_sorted.groupby('risk_category')):\n",
        "  _plot_series(series, series_name, i)\n",
        "  fig.legend(title='risk_category', bbox_to_anchor=(1, 1), loc='upper left')\n",
        "sns.despine(fig=fig, ax=ax)\n",
        "plt.xlabel('id')\n",
        "_ = plt.ylabel('true_label')"
      ],
      "metadata": {
        "id": "yGPZOvehQkaN"
      },
      "execution_count": null,
      "outputs": []
    },
    {
      "cell_type": "code",
      "source": [
        "def _plot_series(series, series_name, series_index=0):\n",
        "  palette = list(sns.palettes.mpl_palette('Dark2'))\n",
        "  xs = series['id']\n",
        "  ys = series['predicted_proba']\n",
        "\n",
        "  plt.plot(xs, ys, label=series_name, color=palette[series_index % len(palette)])\n",
        "\n",
        "fig, ax = plt.subplots(figsize=(10, 5.2), layout='constrained')\n",
        "df_sorted = df_selecionados.sort_values('id', ascending=True)\n",
        "for i, (series_name, series) in enumerate(df_sorted.groupby('risk_category')):\n",
        "  _plot_series(series, series_name, i)\n",
        "  fig.legend(title='risk_category', bbox_to_anchor=(1, 1), loc='upper left')\n",
        "sns.despine(fig=fig, ax=ax)\n",
        "plt.xlabel('id')\n",
        "_ = plt.ylabel('predicted_proba')"
      ],
      "metadata": {
        "id": "4RsLbYSPQnHe"
      },
      "execution_count": null,
      "outputs": []
    },
    {
      "cell_type": "code",
      "source": [
        "figsize = (12, 1.2 * len(df_selecionados['risk_category'].unique()))\n",
        "plt.figure(figsize=figsize)\n",
        "sns.violinplot(df_selecionados, x='simulated_cost', y='risk_category', inner='stick', palette='Dark2')\n",
        "sns.despine(top=True, right=True, bottom=True, left=True)"
      ],
      "metadata": {
        "id": "E8E4zC9aQpZe"
      },
      "execution_count": null,
      "outputs": []
    },
    {
      "cell_type": "code",
      "source": [
        "def _plot_series(series, series_name, series_index=0):\n",
        "  palette = list(sns.palettes.mpl_palette('Dark2'))\n",
        "  xs = series['id']\n",
        "  ys = series['simulated_cost']\n",
        "\n",
        "  plt.plot(xs, ys, label=series_name, color=palette[series_index % len(palette)])\n",
        "\n",
        "fig, ax = plt.subplots(figsize=(10, 5.2), layout='constrained')\n",
        "df_sorted = df_selecionados.sort_values('id', ascending=True)\n",
        "for i, (series_name, series) in enumerate(df_sorted.groupby('risk_category')):\n",
        "  _plot_series(series, series_name, i)\n",
        "  fig.legend(title='risk_category', bbox_to_anchor=(1, 1), loc='upper left')\n",
        "sns.despine(fig=fig, ax=ax)\n",
        "plt.xlabel('id')\n",
        "_ = plt.ylabel('simulated_cost')"
      ],
      "metadata": {
        "id": "RqtoU65JQsLw"
      },
      "execution_count": null,
      "outputs": []
    },
    {
      "cell_type": "code",
      "source": [
        "df_selecionados['simulated_cost'].plot(kind='hist', bins=20, title='simulated_cost')\n",
        "plt.gca().spines[['top', 'right',]].set_visible(False)"
      ],
      "metadata": {
        "id": "Rwa0Ez65Q1o3"
      },
      "execution_count": null,
      "outputs": []
    },
    {
      "cell_type": "code",
      "source": [
        "df_selecionados['true_label'].plot(kind='hist', bins=20, title='true_label')\n",
        "plt.gca().spines[['top', 'right',]].set_visible(False)"
      ],
      "metadata": {
        "id": "uXINWds-Q3Rl"
      },
      "execution_count": null,
      "outputs": []
    },
    {
      "cell_type": "code",
      "source": [
        "n_total = df[\"selecionado\"].sum()\n",
        "media_risco = df[df[\"selecionado\"] == 1][\"predicted_proba\"].mean()\n",
        "custo_total = df[df[\"selecionado\"] == 1][\"simulated_cost\"].sum()\n",
        "n_alto_risco = df[(df[\"selecionado\"] == 1) & (df[\"risk_category\"] == \"alto\")].shape[0]\n",
        "\n",
        "print(\"Optimized Allocation Summary:\")\n",
        "print(f\"Total number of patients treated: {n_total}\")\n",
        "print(f\"Average risk of those selected: {media_risco:.4f}\")\n",
        "print(f\"Total cost of allocation: R$ {custo_total}\")\n",
        "print(f\"High-risk patients included: {n_alto_risco}\")"
      ],
      "metadata": {
        "id": "SP5rrsQWQ5zc"
      },
      "execution_count": null,
      "outputs": []
    },
    {
      "cell_type": "code",
      "source": [
        "df.to_csv(\"optimized_allocation_results.csv\", index=False)"
      ],
      "metadata": {
        "id": "37jOMH7RR3dq"
      },
      "execution_count": null,
      "outputs": []
    }
  ]
}