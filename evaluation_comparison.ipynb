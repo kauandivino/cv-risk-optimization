{
  "nbformat": 4,
  "nbformat_minor": 0,
  "metadata": {
    "colab": {
      "provenance": []
    },
    "kernelspec": {
      "name": "python3",
      "display_name": "Python 3"
    },
    "language_info": {
      "name": "python"
    }
  },
  "cells": [
    {
      "cell_type": "code",
      "source": [
        "import pandas as pd\n",
        "import numpy as np\n",
        "import matplotlib.pyplot as plt\n",
        "import seaborn as sns\n",
        "\n",
        "pd.set_option(\"display.max_columns\", None)\n",
        "sns.set(style=\"whitegrid\")"
      ],
      "metadata": {
        "id": "21hQwqoZGRzL"
      },
      "execution_count": null,
      "outputs": []
    },
    {
      "cell_type": "code",
      "source": [
        "df_base = pd.read_csv(\"optimized_allocation_results.csv\")\n",
        "df_simulacoes = pd.read_csv(\"simulation_results_120cenarios.csv\")"
      ],
      "metadata": {
        "id": "NBzVZHMpGUtg"
      },
      "execution_count": null,
      "outputs": []
    },
    {
      "cell_type": "code",
      "source": [
        "colunas_essenciais = [\"id\", \"predicted_proba\", \"risk_category\", \"simulated_cost\", \"true_label\"]\n",
        "verificacao = all(col in df_base.columns for col in colunas_essenciais)\n",
        "\n",
        "print(\"df_base columns:\", list(df_base.columns))\n",
        "print(\"Valid structure?\", verificacao)\n",
        "\n",
        "df_base.head(10)"
      ],
      "metadata": {
        "id": "mXwKwJixGXCB"
      },
      "execution_count": null,
      "outputs": []
    },
    {
      "cell_type": "code",
      "source": [
        "def triagem_tradicional(df, metodo, capacidade_max, orcamento_total, min_alto_risco=0, random_state=42):\n",
        "    \"\"\"\n",
        "    Performs traditional screening based on fixed criteria.\n",
        "    Return: df with column 'selected' and metrics dictionary.\n",
        "    \"\"\"\n",
        "    df_triagem = df.copy()\n",
        "    np.random.seed(random_state)\n",
        "\n",
        "    if metodo == \"randomico\":\n",
        "        df_triagem = df_triagem.sample(frac=1).reset_index(drop=True)\n",
        "\n",
        "    elif metodo == \"apenas_alto_risco\":\n",
        "        df_triagem = df_triagem[df_triagem[\"risk_category\"] == \"alto\"].copy()\n",
        "\n",
        "    elif metodo == \"por_proba_ordenada\":\n",
        "        df_triagem = df_triagem.sort_values(by=\"predicted_proba\", ascending=False).copy()\n",
        "\n",
        "    else:\n",
        "        raise ValueError(\"❌ Unknown screening method.\")\n",
        "\n",
        "    selecionados = []\n",
        "    custo_acumulado = 0\n",
        "\n",
        "    for _, row in df_triagem.iterrows():\n",
        "        if len(selecionados) >= capacidade_max:\n",
        "            break\n",
        "        if custo_acumulado + row[\"simulated_cost\"] > orcamento_total:\n",
        "            continue\n",
        "        selecionados.append(row[\"id\"])\n",
        "        custo_acumulado += row[\"simulated_cost\"]\n",
        "\n",
        "    df[\"selecionado_tradicional\"] = df[\"id\"].apply(lambda x: 1 if x in selecionados else 0)\n",
        "\n",
        "    df_sel = df[df[\"selecionado_tradicional\"] == 1]\n",
        "    risco_medio = df_sel[\"predicted_proba\"].mean()\n",
        "    positivos = df_sel[df_sel[\"true_label\"] == 1].shape[0]\n",
        "    altos = df_sel[df_sel[\"risk_category\"] == \"alto\"].shape[0]\n",
        "\n",
        "    return df, {\n",
        "        \"metodo\": metodo,\n",
        "        \"atendidos\": len(df_sel),\n",
        "        \"risco_medio\": risco_medio,\n",
        "        \"custo_total\": custo_acumulado,\n",
        "        \"positivos\": positivos,\n",
        "        \"alto_risco\": altos\n",
        "    }\n"
      ],
      "metadata": {
        "id": "jtvZnGaCBxb8"
      },
      "execution_count": null,
      "outputs": []
    },
    {
      "cell_type": "code",
      "source": [
        "params_teste = {\n",
        "    \"capacidade_max\": 30,\n",
        "    \"orcamento_total\": 18000,\n",
        "    \"min_alto_risco\": 10\n",
        "}\n",
        "\n",
        "df_trad, metrics_trad = triagem_tradicional(df_base, metodo=\"por_proba_ordenada\", **params_teste)\n",
        "\n",
        "print(\"Traditional screening metrics (por_proba_ordenada):\")\n",
        "print(metrics_trad)\n",
        "df_trad[df_trad[\"selecionado_tradicional\"] == 1].head(10)"
      ],
      "metadata": {
        "id": "YDe6oyUkHJF_"
      },
      "execution_count": null,
      "outputs": []
    },
    {
      "cell_type": "code",
      "source": [
        "metodos = [\"randomico\", \"apenas_alto_risco\", \"por_proba_ordenada\"]\n",
        "resultados_trad = []\n",
        "\n",
        "for metodo in metodos:\n",
        "    _, metricas = triagem_tradicional(df_base, metodo=metodo, **params_teste)\n",
        "    resultados_trad.append(metricas)\n",
        "\n",
        "df_tradicional = pd.DataFrame(resultados_trad)\n",
        "df_tradicional"
      ],
      "metadata": {
        "id": "eKqidCASHS1O"
      },
      "execution_count": null,
      "outputs": []
    },
    {
      "cell_type": "code",
      "source": [
        "plt.figure(figsize=(10, 6))\n",
        "sns.barplot(data=df_tradicional, x=\"metodo\", y=\"risco_medio\", palette=\"Set2\")\n",
        "plt.title(\"Comparison of Average Risk by Screening Strategy\")\n",
        "plt.ylabel(\"Average Risk of Selected Patients\")\n",
        "plt.xlabel(\"Screening Method\")\n",
        "plt.tight_layout()\n",
        "plt.show()"
      ],
      "metadata": {
        "id": "CqEeFYF2HfU_"
      },
      "execution_count": null,
      "outputs": []
    },
    {
      "cell_type": "code",
      "source": [
        "cenario_otimizado = df_simulacoes.query(\n",
        "    \"capacidade_max == 30 and orcamento_total == 18000 and min_alto_risco == 10 and peso_custo == 0.001\"\n",
        ")\n",
        "\n",
        "if not cenario_otimizado.empty:\n",
        "    linha_otimizada = cenario_otimizado.iloc[0].to_dict()\n",
        "    linha_otimizada.update({\"metodo\": \"modelo_otimizado\"})\n",
        "    df_comparativo = pd.concat([df_tradicional, pd.DataFrame([linha_otimizada])], ignore_index=True)\n",
        "    print(\"Optimized scenario added successfully.\")\n",
        "else:\n",
        "    print(\"Optimized scenario with specified parameters not found.\")\n",
        "    df_comparativo = df_tradicional.copy()\n",
        "\n",
        "df_comparativo"
      ],
      "metadata": {
        "id": "GmBX5TrZHr4r"
      },
      "execution_count": null,
      "outputs": []
    },
    {
      "cell_type": "code",
      "source": [
        "df_comparativo.to_csv(\"comparacao_modelos_tradicionais_vs_otimizado.csv\", index=False)"
      ],
      "metadata": {
        "id": "SWCx_J6nH19M"
      },
      "execution_count": null,
      "outputs": []
    }
  ]
}