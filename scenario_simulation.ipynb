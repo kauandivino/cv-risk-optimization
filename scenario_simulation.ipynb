{
  "nbformat": 4,
  "nbformat_minor": 0,
  "metadata": {
    "colab": {
      "provenance": []
    },
    "kernelspec": {
      "name": "python3",
      "display_name": "Python 3"
    },
    "language_info": {
      "name": "python"
    }
  },
  "cells": [
    {
      "cell_type": "code",
      "source": [
        "!pip install pulp"
      ],
      "metadata": {
        "id": "K7lo6Wo4SlXg"
      },
      "execution_count": null,
      "outputs": []
    },
    {
      "cell_type": "code",
      "source": [
        "import pandas as pd\n",
        "import numpy as np\n",
        "from pulp import LpProblem, LpVariable, lpSum, LpBinary, LpMaximize, PULP_CBC_CMD, LpStatus\n",
        "import matplotlib.pyplot as plt\n",
        "import seaborn as sns\n",
        "from itertools import product\n",
        "\n",
        "pd.set_option(\"display.max_columns\", None)\n",
        "sns.set(style=\"whitegrid\")"
      ],
      "metadata": {
        "id": "w5wT1qRPSkWC"
      },
      "execution_count": null,
      "outputs": []
    },
    {
      "cell_type": "code",
      "source": [
        "df_base = pd.read_csv(\"optimized_allocation_results.csv\")\n",
        "\n",
        "colunas_esperadas = [\"id\", \"predicted_proba\", \"risk_category\", \"simulated_cost\", \"true_label\"]\n",
        "colunas_presentes = all(col in df_base.columns for col in colunas_esperadas)\n",
        "\n",
        "print(\"Columns found:\", list(df_base.columns))\n",
        "print(\"Valid structure for simulation?\" , colunas_presentes)\n",
        "\n",
        "df_base.head(10)"
      ],
      "metadata": {
        "id": "C6J0gGIHSqMW"
      },
      "execution_count": null,
      "outputs": []
    },
    {
      "cell_type": "code",
      "source": [
        "def simular_alocacao(df, capacidade_max, orcamento_total, min_alto_risco,\n",
        "                     peso_risco=1.0, peso_custo=0.001, verbose=False):\n",
        "    \"\"\"\n",
        "    Runs an optimal allocation simulation based on the given parameters.\n",
        "    Return: DataFrame with decisions + solution metrics.\n",
        "    \"\"\"\n",
        "    df_sim = df.copy()\n",
        "    ids = df_sim[\"id\"].tolist()\n",
        "    risco = dict(zip(df_sim[\"id\"], df_sim[\"predicted_proba\"]))\n",
        "    custo = dict(zip(df_sim[\"id\"], df_sim[\"simulated_cost\"]))\n",
        "    categoria = dict(zip(df_sim[\"id\"], df_sim[\"risk_category\"]))\n",
        "\n",
        "    modelo = LpProblem(\"Simulacao_Alocacao\", LpMaximize)\n",
        "    x = {i: LpVariable(f\"x_{i}\", cat=LpBinary) for i in ids}\n",
        "\n",
        "    modelo += lpSum([peso_risco * risco[i] * x[i] - peso_custo * custo[i] * x[i] for i in ids])\n",
        "\n",
        "    modelo += lpSum([x[i] for i in ids]) <= capacidade_max, \"Restricao_Capacidade\"\n",
        "    modelo += lpSum([custo[i] * x[i] for i in ids]) <= orcamento_total, \"Restricao_Orcamento\"\n",
        "    ids_alto = [i for i in ids if categoria[i] == \"alto\"]\n",
        "    modelo += lpSum([x[i] for i in ids_alto]) >= min_alto_risco, \"Restricao_Alto_Risco\"\n",
        "\n",
        "    status = modelo.solve(PULP_CBC_CMD(msg=False))\n",
        "    df_sim[\"selecionado\"] = df_sim[\"id\"].apply(lambda i: int(x[i].varValue))\n",
        "\n",
        "    atendidos = df_sim[\"selecionado\"].sum()\n",
        "    risco_medio = df_sim[df_sim[\"selecionado\"] == 1][\"predicted_proba\"].mean()\n",
        "    custo_total = df_sim[df_sim[\"selecionado\"] == 1][\"simulated_cost\"].sum()\n",
        "    positivos = df_sim[(df_sim[\"selecionado\"] == 1) & (df_sim[\"true_label\"] == 1)].shape[0]\n",
        "    altos = df_sim[(df_sim[\"selecionado\"] == 1) & (df_sim[\"risk_category\"] == \"alto\")].shape[0]\n",
        "\n",
        "    if verbose:\n",
        "        print(f\"Status: {LpStatus[modelo.status]}\")\n",
        "        print(f\"Served: {atendidos}\")\n",
        "        print(f\"Medium risk: {risco_medio:.4f}\")\n",
        "        print(f\"Total cost: R$ {custo_total}\")\n",
        "        print(f\"Positives included: {positivos}\")\n",
        "        print(f\"High risk included: {altos}\")\n",
        "\n",
        "    return df_sim, {\n",
        "        \"status\": LpStatus[modelo.status],\n",
        "        \"atendidos\": atendidos,\n",
        "        \"risco_medio\": risco_medio,\n",
        "        \"custo_total\": custo_total,\n",
        "        \"positivos\": positivos,\n",
        "        \"alto_risco\": altos\n",
        "    }\n"
      ],
      "metadata": {
        "id": "E-RbxC735_gX"
      },
      "execution_count": null,
      "outputs": []
    },
    {
      "cell_type": "code",
      "source": [
        "cenario_teste = {\n",
        "    \"capacidade_max\": 30,\n",
        "    \"orcamento_total\": 18000,\n",
        "    \"min_alto_risco\": 10,\n",
        "    \"peso_risco\": 1.0,\n",
        "    \"peso_custo\": 0.001\n",
        "}\n",
        "\n",
        "df_simulado, metricas = simular_alocacao(df_base, **cenario_teste, verbose=True)\n",
        "df_simulado[df_simulado[\"selecionado\"] == 1].head(10)"
      ],
      "metadata": {
        "id": "NS4MSswqDvFa"
      },
      "execution_count": null,
      "outputs": []
    },
    {
      "cell_type": "code",
      "source": [
        "capacidades = [20, 30, 40, 50]\n",
        "orcamentos = [10000, 15000, 18000, 20000, 25000]\n",
        "altos_risco = [0, 5, 10]\n",
        "pesos_custo = [0.0, 0.001]\n",
        "\n",
        "cenarios = []\n",
        "id_cenario = 1\n",
        "\n",
        "for cap, orc, risco_min, p_custo in product(capacidades, orcamentos, altos_risco, pesos_custo):\n",
        "    cenarios.append({\n",
        "        \"nome\": f\"Cen_{id_cenario:03d}\",\n",
        "        \"capacidade_max\": cap,\n",
        "        \"orcamento_total\": orc,\n",
        "        \"min_alto_risco\": risco_min,\n",
        "        \"peso_risco\": 1.0,\n",
        "        \"peso_custo\": p_custo\n",
        "    })\n",
        "    id_cenario += 1\n",
        "\n",
        "print(f\"Total number of scenarios generated: {len(cenarios)}\")"
      ],
      "metadata": {
        "id": "bl-Wt3NdD8KD"
      },
      "execution_count": null,
      "outputs": []
    },
    {
      "cell_type": "code",
      "source": [
        "resultados = []\n",
        "\n",
        "for c in cenarios:\n",
        "    _, met = simular_alocacao(df_base,\n",
        "                               capacidade_max=c[\"capacidade_max\"],\n",
        "                               orcamento_total=c[\"orcamento_total\"],\n",
        "                               min_alto_risco=c[\"min_alto_risco\"],\n",
        "                               peso_risco=c[\"peso_risco\"],\n",
        "                               peso_custo=c[\"peso_custo\"])\n",
        "    met[\"cenario\"] = c[\"nome\"]\n",
        "    met[\"capacidade_max\"] = c[\"capacidade_max\"]\n",
        "    met[\"orcamento_total\"] = c[\"orcamento_total\"]\n",
        "    met[\"min_alto_risco\"] = c[\"min_alto_risco\"]\n",
        "    met[\"peso_custo\"] = c[\"peso_custo\"]\n",
        "    resultados.append(met)\n",
        "\n",
        "df_resultados = pd.DataFrame(resultados)\n",
        "df_resultados.head(10)"
      ],
      "metadata": {
        "id": "ZgHHCV8KEDuf"
      },
      "execution_count": null,
      "outputs": []
    },
    {
      "cell_type": "code",
      "source": [
        "plt.figure(figsize=(10, 6))\n",
        "sns.scatterplot(data=df_resultados, x=\"custo_total\", y=\"risco_medio\", hue=\"peso_custo\", palette=\"Set2\")\n",
        "plt.title(\"Average Risk vs Total Cost by Scenario\")\n",
        "plt.xlabel(\"Total Allocation Cost (R$)\")\n",
        "plt.ylabel(\"Average Risk of Selected Candidates\")\n",
        "plt.legend(title=\"Weight Cost\")\n",
        "plt.tight_layout()\n",
        "plt.show()"
      ],
      "metadata": {
        "id": "zvu-GD7cEJEO"
      },
      "execution_count": null,
      "outputs": []
    },
    {
      "cell_type": "code",
      "source": [
        "df_resultados['custo_total'].plot(kind='hist', bins=20, title='custo_total')\n",
        "plt.gca().spines[['top', 'right',]].set_visible(False)"
      ],
      "metadata": {
        "id": "X7CfqL4mEi_y"
      },
      "execution_count": null,
      "outputs": []
    },
    {
      "cell_type": "code",
      "source": [
        "df_resultados['custo_total'].plot(kind='line', figsize=(8, 4), title='custo_total')\n",
        "plt.gca().spines[['top', 'right']].set_visible(False)"
      ],
      "metadata": {
        "id": "_nS12DU2Emsj"
      },
      "execution_count": null,
      "outputs": []
    },
    {
      "cell_type": "code",
      "source": [
        "df_resultados['atendidos'].plot(kind='line', figsize=(8, 4), title='atendidos')\n",
        "plt.gca().spines[['top', 'right']].set_visible(False)"
      ],
      "metadata": {
        "id": "_N-CAPWNEoru"
      },
      "execution_count": null,
      "outputs": []
    },
    {
      "cell_type": "code",
      "source": [
        "df_resultados.to_csv(\"simulation_results_120cenarios.csv\", index=False)"
      ],
      "metadata": {
        "id": "LRb1UwumEqmR"
      },
      "execution_count": null,
      "outputs": []
    },
    {
      "cell_type": "code",
      "source": [
        "df_resultados.info()"
      ],
      "metadata": {
        "id": "2rBBamqFEstR"
      },
      "execution_count": null,
      "outputs": []
    },
    {
      "cell_type": "code",
      "source": [
        "df_resultados.describe()"
      ],
      "metadata": {
        "id": "ndE2-nhjEuC2"
      },
      "execution_count": null,
      "outputs": []
    }
  ]
}