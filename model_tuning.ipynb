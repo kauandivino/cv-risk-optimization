{
  "nbformat": 4,
  "nbformat_minor": 0,
  "metadata": {
    "colab": {
      "provenance": []
    },
    "kernelspec": {
      "name": "python3",
      "display_name": "Python 3"
    },
    "language_info": {
      "name": "python"
    }
  },
  "cells": [
    {
      "cell_type": "code",
      "source": [
        "import joblib\n",
        "\n",
        "from sklearn.linear_model import LogisticRegression\n",
        "from sklearn.ensemble import VotingClassifier, StackingClassifier\n",
        "\n",
        "from sklearn.metrics import classification_report, roc_auc_score"
      ],
      "metadata": {
        "id": "IjwPD4Xo_h8w"
      },
      "execution_count": null,
      "outputs": []
    },
    {
      "cell_type": "code",
      "source": [
        "X_test = np.load(\"X_test.npy\")\n",
        "y_test = pd.read_csv(\"y_test.csv\").values.ravel()\n",
        "X_train = np.load(\"X_train.npy\")\n",
        "y_train = pd.read_csv(\"y_train.csv\").values.ravel()\n",
        "\n",
        "lr = joblib.load(\"logistic_regression_model.joblib\")\n",
        "rf = joblib.load(\"random_forest_model.joblib\")\n",
        "xgb = joblib.load(\"xgboost_model.joblib\")\n",
        "nb = joblib.load(\"naive_bayes_model.joblib\")"
      ],
      "metadata": {
        "id": "IhAwKbLV_jEZ"
      },
      "execution_count": null,
      "outputs": []
    },
    {
      "cell_type": "code",
      "source": [
        "voting_model = VotingClassifier(\n",
        "    estimators=[\n",
        "        ('lr', lr),\n",
        "        ('rf', rf),\n",
        "        ('xgb', xgb),\n",
        "        ('nb', nb)\n",
        "    ],\n",
        "    voting='soft'\n",
        ")\n",
        "\n",
        "voting_model.fit(X_train, y_train)\n",
        "\n",
        "y_pred_voting = voting_model.predict(X_test)\n",
        "y_prob_voting = voting_model.predict_proba(X_test)[:, 1]\n",
        "\n",
        "print(\"Ensemble (Soft Voting) - Test Evaluation:\")\n",
        "print(classification_report(y_test, y_pred_voting))\n",
        "print(\"AUC-ROC:\", roc_auc_score(y_test, y_prob_voting))"
      ],
      "metadata": {
        "id": "6L36ch2O_mtY"
      },
      "execution_count": null,
      "outputs": []
    },
    {
      "cell_type": "code",
      "source": [
        "stack_model = StackingClassifier(\n",
        "    estimators=[\n",
        "        ('lr', lr),\n",
        "        ('rf', rf),\n",
        "        ('xgb', xgb),\n",
        "        ('nb', nb)\n",
        "    ],\n",
        "    final_estimator=LogisticRegression(),\n",
        "    cv=5,\n",
        "    n_jobs=-1\n",
        ")\n",
        "\n",
        "stack_model.fit(X_train, y_train)"
      ],
      "metadata": {
        "id": "QXAZACXTAEjU"
      },
      "execution_count": null,
      "outputs": []
    },
    {
      "cell_type": "code",
      "source": [
        "y_pred_stack = stack_model.predict(X_test)\n",
        "y_prob_stack = stack_model.predict_proba(X_test)[:, 1]\n",
        "\n",
        "print(\"Stacking Classifier - Test Evaluation:\")\n",
        "print(classification_report(y_test, y_pred_stack))\n",
        "print(\"AUC-ROC:\", roc_auc_score(y_test, y_prob_stack))"
      ],
      "metadata": {
        "id": "5qlp7A2eAH_H"
      },
      "execution_count": null,
      "outputs": []
    },
    {
      "cell_type": "code",
      "source": [
        "joblib.dump(stack_model, \"stacking_model_final.joblib\")\n",
        "print(\"Stacking model saved as 'stacking_model_final.joblib'\")"
      ],
      "metadata": {
        "id": "Ky6LEUbfAP23"
      },
      "execution_count": null,
      "outputs": []
    }
  ]
}